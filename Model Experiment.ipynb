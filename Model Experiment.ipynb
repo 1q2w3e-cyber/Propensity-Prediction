{
 "cells": [
  {
   "cell_type": "code",
   "execution_count": 13,
   "id": "fc6df2ac",
   "metadata": {},
   "outputs": [],
   "source": [
    "# importing Libraries : \n",
    "import pandas as pd\n",
    "from sklearn.model_selection import train_test_split\n",
    "from sklearn.model_selection import train_test_split\n",
    "from sklearn.model_selection import cross_val_score\n",
    "from sklearn.model_selection import KFold\n",
    "from sklearn.metrics import accuracy_score"
   ]
  },
  {
   "cell_type": "code",
   "execution_count": 14,
   "id": "2f33cb80",
   "metadata": {},
   "outputs": [
    {
     "data": {
      "text/html": [
       "<div>\n",
       "<style scoped>\n",
       "    .dataframe tbody tr th:only-of-type {\n",
       "        vertical-align: middle;\n",
       "    }\n",
       "\n",
       "    .dataframe tbody tr th {\n",
       "        vertical-align: top;\n",
       "    }\n",
       "\n",
       "    .dataframe thead th {\n",
       "        text-align: right;\n",
       "    }\n",
       "</style>\n",
       "<table border=\"1\" class=\"dataframe\">\n",
       "  <thead>\n",
       "    <tr style=\"text-align: right;\">\n",
       "      <th></th>\n",
       "      <th>age</th>\n",
       "      <th>default</th>\n",
       "      <th>balance</th>\n",
       "      <th>housing</th>\n",
       "      <th>loan</th>\n",
       "      <th>job_admin.</th>\n",
       "      <th>job_blue-collar</th>\n",
       "      <th>job_entrepreneur</th>\n",
       "      <th>job_housemaid</th>\n",
       "      <th>job_management</th>\n",
       "      <th>...</th>\n",
       "      <th>job_services</th>\n",
       "      <th>job_student</th>\n",
       "      <th>job_technician</th>\n",
       "      <th>job_unemployed</th>\n",
       "      <th>job_unknown</th>\n",
       "      <th>education_primary</th>\n",
       "      <th>education_secondary</th>\n",
       "      <th>education_tertiary</th>\n",
       "      <th>education_unknown</th>\n",
       "      <th>response_binary</th>\n",
       "    </tr>\n",
       "  </thead>\n",
       "  <tbody>\n",
       "    <tr>\n",
       "      <th>0</th>\n",
       "      <td>58</td>\n",
       "      <td>0</td>\n",
       "      <td>2143</td>\n",
       "      <td>1</td>\n",
       "      <td>0</td>\n",
       "      <td>0</td>\n",
       "      <td>0</td>\n",
       "      <td>0</td>\n",
       "      <td>0</td>\n",
       "      <td>1</td>\n",
       "      <td>...</td>\n",
       "      <td>0</td>\n",
       "      <td>0</td>\n",
       "      <td>0</td>\n",
       "      <td>0</td>\n",
       "      <td>0</td>\n",
       "      <td>0</td>\n",
       "      <td>0</td>\n",
       "      <td>1</td>\n",
       "      <td>0</td>\n",
       "      <td>0</td>\n",
       "    </tr>\n",
       "    <tr>\n",
       "      <th>1</th>\n",
       "      <td>44</td>\n",
       "      <td>0</td>\n",
       "      <td>29</td>\n",
       "      <td>1</td>\n",
       "      <td>0</td>\n",
       "      <td>0</td>\n",
       "      <td>0</td>\n",
       "      <td>0</td>\n",
       "      <td>0</td>\n",
       "      <td>0</td>\n",
       "      <td>...</td>\n",
       "      <td>0</td>\n",
       "      <td>0</td>\n",
       "      <td>1</td>\n",
       "      <td>0</td>\n",
       "      <td>0</td>\n",
       "      <td>0</td>\n",
       "      <td>1</td>\n",
       "      <td>0</td>\n",
       "      <td>0</td>\n",
       "      <td>0</td>\n",
       "    </tr>\n",
       "    <tr>\n",
       "      <th>2</th>\n",
       "      <td>33</td>\n",
       "      <td>0</td>\n",
       "      <td>2</td>\n",
       "      <td>1</td>\n",
       "      <td>1</td>\n",
       "      <td>0</td>\n",
       "      <td>0</td>\n",
       "      <td>1</td>\n",
       "      <td>0</td>\n",
       "      <td>0</td>\n",
       "      <td>...</td>\n",
       "      <td>0</td>\n",
       "      <td>0</td>\n",
       "      <td>0</td>\n",
       "      <td>0</td>\n",
       "      <td>0</td>\n",
       "      <td>0</td>\n",
       "      <td>1</td>\n",
       "      <td>0</td>\n",
       "      <td>0</td>\n",
       "      <td>0</td>\n",
       "    </tr>\n",
       "    <tr>\n",
       "      <th>3</th>\n",
       "      <td>47</td>\n",
       "      <td>0</td>\n",
       "      <td>1506</td>\n",
       "      <td>1</td>\n",
       "      <td>0</td>\n",
       "      <td>0</td>\n",
       "      <td>1</td>\n",
       "      <td>0</td>\n",
       "      <td>0</td>\n",
       "      <td>0</td>\n",
       "      <td>...</td>\n",
       "      <td>0</td>\n",
       "      <td>0</td>\n",
       "      <td>0</td>\n",
       "      <td>0</td>\n",
       "      <td>0</td>\n",
       "      <td>0</td>\n",
       "      <td>0</td>\n",
       "      <td>0</td>\n",
       "      <td>1</td>\n",
       "      <td>0</td>\n",
       "    </tr>\n",
       "    <tr>\n",
       "      <th>4</th>\n",
       "      <td>33</td>\n",
       "      <td>0</td>\n",
       "      <td>1</td>\n",
       "      <td>0</td>\n",
       "      <td>0</td>\n",
       "      <td>0</td>\n",
       "      <td>0</td>\n",
       "      <td>0</td>\n",
       "      <td>0</td>\n",
       "      <td>0</td>\n",
       "      <td>...</td>\n",
       "      <td>0</td>\n",
       "      <td>0</td>\n",
       "      <td>0</td>\n",
       "      <td>0</td>\n",
       "      <td>1</td>\n",
       "      <td>0</td>\n",
       "      <td>0</td>\n",
       "      <td>0</td>\n",
       "      <td>1</td>\n",
       "      <td>0</td>\n",
       "    </tr>\n",
       "  </tbody>\n",
       "</table>\n",
       "<p>5 rows × 22 columns</p>\n",
       "</div>"
      ],
      "text/plain": [
       "   age  default  balance  housing  loan  job_admin.  job_blue-collar  \\\n",
       "0   58        0     2143        1     0           0                0   \n",
       "1   44        0       29        1     0           0                0   \n",
       "2   33        0        2        1     1           0                0   \n",
       "3   47        0     1506        1     0           0                1   \n",
       "4   33        0        1        0     0           0                0   \n",
       "\n",
       "   job_entrepreneur  job_housemaid  job_management  ...  job_services  \\\n",
       "0                 0              0               1  ...             0   \n",
       "1                 0              0               0  ...             0   \n",
       "2                 1              0               0  ...             0   \n",
       "3                 0              0               0  ...             0   \n",
       "4                 0              0               0  ...             0   \n",
       "\n",
       "   job_student  job_technician  job_unemployed  job_unknown  \\\n",
       "0            0               0               0            0   \n",
       "1            0               1               0            0   \n",
       "2            0               0               0            0   \n",
       "3            0               0               0            0   \n",
       "4            0               0               0            1   \n",
       "\n",
       "   education_primary  education_secondary  education_tertiary  \\\n",
       "0                  0                    0                   1   \n",
       "1                  0                    1                   0   \n",
       "2                  0                    1                   0   \n",
       "3                  0                    0                   0   \n",
       "4                  0                    0                   0   \n",
       "\n",
       "   education_unknown  response_binary  \n",
       "0                  0                0  \n",
       "1                  0                0  \n",
       "2                  0                0  \n",
       "3                  1                0  \n",
       "4                  1                0  \n",
       "\n",
       "[5 rows x 22 columns]"
      ]
     },
     "execution_count": 14,
     "metadata": {},
     "output_type": "execute_result"
    }
   ],
   "source": [
    "df2=pd.read_csv('Cleaned_Data3.csv')\n",
    "df2.head()"
   ]
  },
  {
   "cell_type": "code",
   "execution_count": 20,
   "id": "c44abf18",
   "metadata": {},
   "outputs": [],
   "source": [
    "X = df2.drop(columns=['response_binary'])\n",
    "y = df2['response_binary']"
   ]
  },
  {
   "cell_type": "code",
   "execution_count": 21,
   "id": "46deb659",
   "metadata": {},
   "outputs": [
    {
     "name": "stdout",
     "output_type": "stream",
     "text": [
      "percentage of yes:  11.638066927892627\n",
      "percentage of no:  88.36193307210736\n"
     ]
    }
   ],
   "source": [
    "# Checking the percentage of the categories of the target variable: \n",
    "\n",
    "yes_count = sum(df2['response_binary'] ==1)\n",
    "no_count = sum(df2['response_binary'] ==0)\n",
    "\n",
    "total_count = len(df2)\n",
    "\n",
    "print(f\"percentage of yes: \", ((yes_count)/total_count)*100)\n",
    "print(f\"percentage of no: \", ((no_count)/total_count)*100)"
   ]
  },
  {
   "cell_type": "markdown",
   "id": "55d92238",
   "metadata": {},
   "source": [
    "As we can see above we have only 11% of class 'yes' , which causes class imbalance problem . Here as the minority class (yes) is very small compared to majority class (no) , Oversampling would be one of the way forward to tackle this problem.\n",
    "\n",
    "Which brings us to Synthetic Minority Over-sampling Technique (SMOTE) which is implemented in 'imbalanced-learn' package , is a way to balance imbalanced datasets.\n",
    "\n",
    "Instead of just copying the minority class examples, SMOTE creates new synthetic examples by blending together existing ones. This helps prevent the model from focusing too much on the minority class. The big advantage of SMOTE is that it gives a more accurate picture of the minority class, which can make the model perform better, especially when the minority class is rare. "
   ]
  },
  {
   "cell_type": "code",
   "execution_count": 23,
   "id": "9bc6f90f",
   "metadata": {},
   "outputs": [],
   "source": [
    "from imblearn.over_sampling import SMOTE\n",
    "\n",
    "smote = SMOTE(random_state=123)\n",
    "X_resampled,y_resampled = smote.fit_resample(X,y)\n",
    "\n",
    "\n",
    "# Concatenate the resampled X and y : \n",
    "\n",
    "resampled_df = pd.concat([X_resampled,y_resampled],axis=1)"
   ]
  },
  {
   "cell_type": "code",
   "execution_count": 24,
   "id": "f24959ad",
   "metadata": {},
   "outputs": [
    {
     "name": "stdout",
     "output_type": "stream",
     "text": [
      "percentage of yes:  50.0\n",
      "percentage of no:  50.0\n"
     ]
    }
   ],
   "source": [
    "yes_count = (resampled_df['response_binary'] == 1).sum()\n",
    "no_count = (resampled_df['response_binary'] == 0).sum()\n",
    "\n",
    "total_count = len(resampled_df)\n",
    "\n",
    "print(f\"percentage of yes: \", ((yes_count)/total_count)*100)\n",
    "print(f\"percentage of no: \", ((no_count)/total_count)*100)"
   ]
  },
  {
   "cell_type": "markdown",
   "id": "bfa3a111",
   "metadata": {},
   "source": [
    "As we can see above our data is balanced perfectly there are no minority class now , we can proceed to train our model on the data"
   ]
  },
  {
   "cell_type": "code",
   "execution_count": 42,
   "id": "137d5ca3",
   "metadata": {},
   "outputs": [],
   "source": [
    "# Splitting the Resampled data : \n",
    "\n",
    "X_resampled = resampled_df.drop('response_binary',axis=1)\n",
    "y_resampled = resampled_df['response_binary']\n",
    "\n",
    "\n",
    "X_train, X_test, y_train, y_test= train_test_split(X_resampled, y_resampled, test_size=0.2, random_state=42)"
   ]
  },
  {
   "cell_type": "code",
   "execution_count": 43,
   "id": "35b7b1f8",
   "metadata": {},
   "outputs": [
    {
     "name": "stdout",
     "output_type": "stream",
     "text": [
      "(62780, 21) (62780,)\n"
     ]
    }
   ],
   "source": [
    "print(X_train.shape, y_train.shape)"
   ]
  },
  {
   "cell_type": "markdown",
   "id": "fbe0c7f8",
   "metadata": {},
   "source": [
    "After experimenting with different models , I went with Random Forest as it was the best performing model : "
   ]
  },
  {
   "cell_type": "code",
   "execution_count": 44,
   "id": "244141a6",
   "metadata": {},
   "outputs": [],
   "source": [
    "from sklearn.ensemble import RandomForestClassifier\n",
    "from sklearn.metrics import confusion_matrix , accuracy_score , classification_report\n",
    "\n",
    "# Initializing the Random Forest Model : \n",
    "clf = RandomForestClassifier(n_estimators=200 , random_state=42 , max_depth = 20 , min_samples_leaf = 1 , min_samples_split=2)\n"
   ]
  },
  {
   "cell_type": "code",
   "execution_count": null,
   "id": "d814f402",
   "metadata": {},
   "outputs": [],
   "source": [
    "# Training the model\n",
    "clf.fit(X_train,y_train)"
   ]
  },
  {
   "cell_type": "code",
   "execution_count": 46,
   "id": "87f9875c",
   "metadata": {},
   "outputs": [],
   "source": [
    "# Testing the model\n",
    "y_pred = clf.predict(X_test)"
   ]
  },
  {
   "cell_type": "code",
   "execution_count": 47,
   "id": "cc04957f",
   "metadata": {},
   "outputs": [
    {
     "name": "stdout",
     "output_type": "stream",
     "text": [
      "              precision    recall  f1-score   support\n",
      "\n",
      "           0       0.90      0.92      0.91      7832\n",
      "           1       0.92      0.89      0.91      7864\n",
      "\n",
      "    accuracy                           0.91     15696\n",
      "   macro avg       0.91      0.91      0.91     15696\n",
      "weighted avg       0.91      0.91      0.91     15696\n",
      "\n"
     ]
    }
   ],
   "source": [
    "print(classification_report(y_test,y_pred))"
   ]
  },
  {
   "cell_type": "code",
   "execution_count": 48,
   "id": "1398c96c",
   "metadata": {},
   "outputs": [
    {
     "data": {
      "text/plain": [
       "<AxesSubplot: >"
      ]
     },
     "execution_count": 48,
     "metadata": {},
     "output_type": "execute_result"
    },
    {
     "data": {
      "image/png": "[encoded data removed]",
      "text/plain": [
       "<Figure size 800x500 with 2 Axes>"
      ]
     },
     "metadata": {},
     "output_type": "display_data"
    }
   ],
   "source": [
    "# plotting the confusion matrix : \n",
    "import matplotlib.pyplot as plt\n",
    "import seaborn as sns\n",
    "plt.figure(figsize=(8,5))\n",
    "sns.heatmap(confusion_matrix(y_test,y_pred),annot=True , cmap='Blues',fmt='g')"
   ]
  },
  {
   "cell_type": "markdown",
   "id": "6b197dc3",
   "metadata": {},
   "source": [
    "#### The confusion matrix we have here gives us a good look at how well our model is doing. \n",
    "\n",
    "#### It tells us that our model is pretty accurate, with about 90% precision for class 0 and 92% for class 1. When it comes to finding the actual positive cases, it's doing quite well too, with recall rates of 92% for class 0 and 89% for class 1. \n",
    "\n",
    "#### The F1-score, which combines precision and recall, is also solid at 91% for both classes, showing a nice balance between them. Overall, the model gets about 91% of the classifications right. So, based on these results, we can say our model is doing a reliable job in classifying instances in our dataset."
   ]
  },
  {
   "cell_type": "code",
   "execution_count": null,
   "id": "45388ed1",
   "metadata": {},
   "outputs": [],
   "source": []
  }
 ],
 "metadata": {
  "kernelspec": {
   "display_name": "Python 3 (ipykernel)",
   "language": "python",
   "name": "python3"
  },
  "language_info": {
   "codemirror_mode": {
    "name": "ipython",
    "version": 3
   },
   "file_extension": ".py",
   "mimetype": "text/x-python",
   "name": "python",
   "nbconvert_exporter": "python",
   "pygments_lexer": "ipython3",
   "version": "3.10.4"
  }
 },
 "nbformat": 4,
 "nbformat_minor": 5
}
